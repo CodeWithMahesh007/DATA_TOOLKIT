{
  "nbformat": 4,
  "nbformat_minor": 0,
  "metadata": {
    "colab": {
      "provenance": []
    },
    "kernelspec": {
      "name": "python3",
      "display_name": "Python 3"
    },
    "language_info": {
      "name": "python"
    }
  },
  "cells": [
    {
      "cell_type": "markdown",
      "source": [
        "1. Explain the purpose and advantages of NumPy in scientific computing and data analysis. How does it\n",
        "enhance Python's capabilities for numerical operations?\n",
        "\n",
        "--> **Purpose of NumPy in Scientific Computing and Data Analysis**\n",
        "NumPy (Numerical Python) is a fundamental library for numerical computing in Python. It provides a high-performance, multidimensional array object and a collection of mathematical functions designed for efficient operations on large datasets.\n",
        "\n",
        "NumPy is widely used in:\n",
        "- **Scientific computing**: Performing mathematical and statistical computations.\n",
        "- **Data analysis**: Handling large datasets efficiently.\n",
        "- **Machine learning and AI**: Serving as a foundation for libraries like TensorFlow, scikit-learn, and Pandas.\n",
        "- **Engineering and simulations**: Conducting numerical modeling and simulations.\n",
        "\n",
        "\n",
        "### **Advantages of NumPy**\n",
        "1. **Efficient Array Operations**  \n",
        "   - NumPy provides the `ndarray` object, which is more memory-efficient and faster than Python's built-in lists.\n",
        "   - Supports vectorized operations, eliminating the need for slow Python loops.\n",
        "\n",
        "2. **Performance Improvement**  \n",
        "   - NumPy operations are implemented in C and optimized for performance.\n",
        "   - Uses contiguous memory storage, improving cache performance.\n",
        "   - Supports parallel processing via libraries like BLAS and LAPACK.\n",
        "\n",
        "3. **Broad Functionality**  \n",
        "   - Offers a wide range of mathematical, statistical, and linear algebra functions.\n",
        "   - Supports Fast Fourier Transforms (FFT), random number generation, and integration with other scientific libraries.\n",
        "\n",
        "4. **Interoperability**  \n",
        "   - Works seamlessly with Pandas, SciPy, Matplotlib, and machine learning frameworks like TensorFlow and PyTorch.\n",
        "   - Can interface with C/C++ and Fortran, allowing high-performance computing.\n",
        "\n",
        "5. **Broadcasting and Advanced Indexing**  \n",
        "   - Supports broadcasting, allowing operations on arrays of different shapes without explicit looping.\n",
        "   - Provides advanced indexing, making data manipulation easier.\n",
        "\n",
        "6. **Ease of Use**  \n",
        "   - Syntax is simple and concise compared to traditional loops and list-based operations.\n",
        "   - Reduces code complexity while improving readability.\n",
        "\n",
        "\n",
        " **How NumPy Enhances Python’s Numerical Capabilities**\n",
        "- **Replaces Python lists**: NumPy arrays (`ndarrays`) are more efficient in terms of memory and speed.\n",
        "- **Enables vectorization**: Operations are applied element-wise without explicit loops.\n",
        "- **Optimized mathematical computations**: Linear algebra, statistical functions, and random number generation are faster.\n",
        "- **Facilitates large-scale data handling**: NumPy is designed to handle multi-dimensional arrays efficiently.\n",
        "\n",
        "Overall, NumPy significantly enhances Python’s capabilities for numerical computing and is essential for scientific and data-driven applications."
      ],
      "metadata": {
        "id": "D1u5l5I9XSot"
      }
    },
    {
      "cell_type": "markdown",
      "source": [
        " 2.Compare and contrast np.mean() and np.average() functions in NumPy. When would you use one over the\n",
        "other?\n",
        "\n",
        "-->np.mean() vs np.average() in NumPy\n",
        "np.mean()\n",
        "Purpose: Calculates the arithmetic mean (average) along the specified axis.\n",
        "\n",
        "Syntax: np.mean(a, axis=None, dtype=None, out=None, keepdims=<no value>)\n",
        "\n",
        "Parameters:\n",
        "\n",
        "a: Input array.\n",
        "\n",
        "axis: Axis along which the means are computed. By default, the mean is computed for the flattened array.\n",
        "\n",
        "dtype: Type to use in computing the mean.\n",
        "\n",
        "out: Alternative output array to place the result.\n",
        "\n",
        "keepdims: If True, the reduced axes are left as dimensions with size one.\n",
        "\n",
        "np.average()\n",
        "Purpose: Calculates the weighted average along the specified axis. If no weights are provided, it behaves like np.mean().\n",
        "\n",
        "Syntax: np.average(a, axis=None, weights=None, returned=False)\n",
        "\n",
        "Parameters:\n",
        "\n",
        "a: Input array.\n",
        "\n",
        "axis: Axis along which the averages are computed.\n",
        "\n",
        "weights: An array of weights associated with the values in a. If None, the function calculates the mean.\n",
        "\n",
        "returned: If True, returns a tuple of the average and the sum of the weights.\n",
        "\n",
        "Key Differences:\n",
        "Weighted Average:\n",
        "\n",
        "np.mean(): Always calculates the simple arithmetic mean.\n",
        "\n",
        "np.average(): Can calculate a weighted average if weights are provided.\n",
        "\n",
        "Behavior Without Weights:\n",
        "\n",
        "np.mean(): Only calculates the simple mean.\n",
        "\n",
        "np.average(): Behaves like np.mean() when no weights are provided.\n",
        "\n",
        "Return Value:\n",
        "\n",
        "np.mean(): Returns the mean.\n",
        "\n",
        "np.average(): Can return a tuple of the average and the sum of the weights if returned=True.\n",
        "\n",
        "When to Use Each:\n",
        "Use np.mean() when you need to calculate the simple arithmetic mean and do not require weighting.\n",
        "\n",
        "Use np.average() when you need to calculate a weighted average or if there's a possibility you might need to include weights in the future."
      ],
      "metadata": {
        "id": "h1kp8WJAZcNe"
      }
    },
    {
      "cell_type": "markdown",
      "source": [
        "3.Describe the methods for reversing a NumPy array along different axes. Provide examples for 1D and 2D\n",
        "arrays.\n",
        "\n",
        "-->Reversing a NumPy array can be achieved using various methods depending on the array's dimensions and the axes you want to reverse along. Let's explore some of these methods with examples for 1D and 2D arrays:\n",
        "\n",
        "### 1. Reversing a 1D Array\n",
        "To reverse a 1D array, you can use slicing.\n",
        "\n",
        "#### Example:\n",
        "```python\n",
        "import numpy as np\n",
        "\n",
        "# Create a 1D array\n",
        "arr = np.array([1, 2, 3, 4, 5])\n",
        "\n",
        "# Reverse the array using slicing\n",
        "reversed_arr = arr[::-1]\n",
        "\n",
        "print(\"Original array:\", arr)\n",
        "print(\"Reversed array:\", reversed_arr)\n",
        "```\n",
        "\n",
        "### Output:\n",
        "```plaintext\n",
        "Original array: [1 2 3 4 5]\n",
        "Reversed array: [5 4 3 2 1]\n",
        "```\n",
        "\n",
        "### 2. Reversing a 2D Array\n",
        "For a 2D array, you can reverse along different axes using slicing. You can reverse along rows, columns, or both.\n",
        "\n",
        "#### Example 1: Reverse Rows\n",
        "```python\n",
        "import numpy as np\n",
        "\n",
        "# Create a 2D array\n",
        "arr = np.array([[1, 2, 3], [4, 5, 6], [7, 8, 9]])\n",
        "\n",
        "# Reverse the rows\n",
        "reversed_rows = arr[::-1, :]\n",
        "\n",
        "print(\"Original array:\\n\", arr)\n",
        "print(\"Reversed rows:\\n\", reversed_rows)\n",
        "```\n",
        "\n",
        "### Output:\n",
        "```plaintext\n",
        "Original array:\n",
        " [[1 2 3]\n",
        " [4 5 6]\n",
        " [7 8 9]]\n",
        "Reversed rows:\n",
        " [[7 8 9]\n",
        " [4 5 6]\n",
        " [1 2 3]]\n",
        "```\n",
        "\n",
        "#### Example 2: Reverse Columns\n",
        "```python\n",
        "import numpy as np\n",
        "\n",
        "# Create a 2D array\n",
        "arr = np.array([[1, 2, 3], [4, 5, 6], [7, 8, 9]])\n",
        "\n",
        "# Reverse the columns\n",
        "reversed_columns = arr[:, ::-1]\n",
        "\n",
        "print(\"Original array:\\n\", arr)\n",
        "print(\"Reversed columns:\\n\", reversed_columns)\n",
        "```\n",
        "\n",
        "### Output:\n",
        "```plaintext\n",
        "Original array:\n",
        " [[1 2 3]\n",
        " [4 5 6]\n",
        " [7 8 9]]\n",
        "Reversed columns:\n",
        " [[3 2 1]\n",
        " [6 5 4]\n",
        " [9 8 7]]\n",
        "```\n",
        "\n",
        "#### Example 3: Reverse Both Rows and Columns\n",
        "```python\n",
        "import numpy as np\n",
        "\n",
        "# Create a 2D array\n",
        "arr = np.array([[1, 2, 3], [4, 5, 6], [7, 8, 9]])\n",
        "\n",
        "# Reverse both rows and columns\n",
        "reversed_both = arr[::-1, ::-1]\n",
        "\n",
        "print(\"Original array:\\n\", arr)\n",
        "print(\"Reversed both rows and columns:\\n\", reversed_both)\n",
        "```\n",
        "\n",
        "### Output:\n",
        "```plaintext\n",
        "Original array:\n",
        " [[1 2 3]\n",
        " [4 5 6]\n",
        " [7 8 9]]\n",
        "Reversed both rows and columns:\n",
        " [[9 8 7]\n",
        " [6 5 4]\n",
        " [3 2 1]]\n",
        "```\n",
        "\n",
        "### Summary:\n",
        "- **1D Array**: Use slicing `[::-1]` to reverse the array.\n",
        "- **2D Array**:\n",
        "  - Reverse rows: Use slicing `[::-1, :]`.\n",
        "  - Reverse columns: Use slicing `[:, ::-1]`.\n",
        "  - Reverse both rows and columns: Use slicing `[::-1, ::-1]`.\n",
        "\n",
        "These methods allow you to easily reverse the elements in NumPy arrays along different axes."
      ],
      "metadata": {
        "id": "t2csWccAafqi"
      }
    },
    {
      "cell_type": "markdown",
      "source": [
        "4. How can you determine the data type of elements in a NumPy array? Discuss the importance of data types\n",
        "in memory management and performance.\n",
        "\n",
        "-->### **Determining the Data Type of Elements in a NumPy Array**\n",
        "In NumPy, you can determine the data type of elements in an array using the `.dtype` attribute:\n",
        "\n",
        "```python\n",
        "import numpy as np\n",
        "\n",
        "arr = np.array([1, 2, 3, 4, 5])\n",
        "print(arr.dtype)  # Output: int32 or int64 (depending on system)\n",
        "```\n",
        "For more detailed information, you can use:\n",
        "\n",
        "```python\n",
        "print(type(arr[0]))  # Checks the type of an individual element\n",
        "```\n",
        "\n",
        "You can also check and specify data types explicitly when creating arrays:\n",
        "\n",
        "```python\n",
        "arr_float = np.array([1, 2, 3], dtype=np.float32)\n",
        "print(arr_float.dtype)  # Output: float32\n",
        "```\n",
        "\n",
        "---\n",
        "\n",
        "## **Importance of Data Types in Memory Management and Performance**\n",
        "1. **Memory Efficiency**  \n",
        "   - NumPy allows selecting data types (`int8`, `int16`, `int32`, `int64`, `float32`, etc.), optimizing memory usage.\n",
        "   - Example: `int8` (1 byte) vs. `int64` (8 bytes) – choosing the appropriate type saves memory.\n",
        "\n",
        "2. **Performance Optimization**  \n",
        "   - Smaller data types improve performance by reducing memory footprint and improving cache efficiency.\n",
        "   - Vectorized operations on `float32` arrays are often faster than on `float64` due to lower precision requirements.\n",
        "\n",
        "3. **Avoiding Unexpected Behavior**  \n",
        "   - Operations on mixed data types can lead to **type promotion**, increasing memory usage.\n",
        "   - Example:\n",
        "     ```python\n",
        "     arr = np.array([1, 2, 3], dtype=np.int8) + 300\n",
        "     print(arr.dtype)  # May convert to int16 to prevent overflow\n",
        "     ```\n",
        "\n",
        "4. **Compatibility with External Libraries**  \n",
        "   - Ensures correct data representation when interacting with machine learning frameworks (e.g., TensorFlow prefers `float32` for efficiency).\n",
        "\n",
        "---\n",
        "\n",
        " ## **Best Practices**\n",
        "- Use `float32` instead of `float64` for deep learning to save memory.\n",
        "- Use `int8` or `uint8` for image processing where possible.\n",
        "- Convert data types only when necessary to avoid **precision loss** and **unnecessary conversions**.\n",
        "\n",
        "Choosing the right NumPy data type enhances performance, reduces memory overhead, and prevents errors in numerical computations."
      ],
      "metadata": {
        "id": "otSNMuKWa-QQ"
      }
    },
    {
      "cell_type": "markdown",
      "source": [
        "5.. Define ndarrays in NumPy and explain their key features. How do they differ from standard Python lists?\n",
        "\n",
        "-->NumPy ndarrays\n",
        "ndarray stands for \"N-dimensional array\" in NumPy. It is the primary data structure used in the NumPy library and provides a powerful way to work with large, multi-dimensional arrays and matrices of numerical data.\n",
        "\n",
        "Key Features of ndarrays:\n",
        "N-Dimensional:\n",
        "\n",
        "Supports multi-dimensional arrays, allowing for the creation of arrays with any number of dimensions.\n",
        "\n",
        "Flexible and can handle scalar (0-D), vector (1-D), matrix (2-D), and higher-dimensional arrays.\n",
        "\n",
        "Homogeneous Data Type:\n",
        "\n",
        "All elements in an ndarray must be of the same data type.\n",
        "\n",
        "This ensures efficient memory usage and fast computation.\n",
        "\n",
        "Element-wise Operations:\n",
        "\n",
        "Supports efficient element-wise operations and broadcasting.\n",
        "\n",
        "Allows for vectorized operations, eliminating the need for explicit loops.\n",
        "\n",
        "Memory Efficiency:\n",
        "\n",
        "Uses contiguous blocks of memory, which makes access and manipulation of data faster.\n",
        "\n",
        "Significantly more memory-efficient than Python lists, especially for large datasets.\n",
        "\n",
        "Powerful Mathematical Functions:\n",
        "\n",
        "Provides a wide range of mathematical and statistical functions that operate on ndarrays.\n",
        "\n",
        "Functions include trigonometric, statistical, linear algebra, and random number operations.\n",
        "\n",
        "Advanced Indexing and Slicing:\n",
        "\n",
        "Supports advanced indexing and slicing, making it easy to manipulate data.\n",
        "\n",
        "Allows for operations on subsets of data without copying the data.\n",
        "\n",
        "Differences from Standard Python Lists:\n",
        "Data Type:\n",
        "\n",
        "NumPy ndarrays: Homogeneous (all elements are of the same type).\n",
        "\n",
        "Python lists: Heterogeneous (can contain elements of different types).\n",
        "\n",
        "Performance:\n",
        "\n",
        "NumPy ndarrays: Highly optimized for numerical operations, leading to faster computations.\n",
        "\n",
        "Python lists: Slower for numerical operations due to lack of optimization and type flexibility.\n",
        "\n",
        "Memory Usage:\n",
        "\n",
        "NumPy ndarrays: More memory-efficient due to homogeneous data type and contiguous memory storage.\n",
        "\n",
        "Python lists: Less memory-efficient because elements can be of different types and are stored as individual objects.\n",
        "\n",
        "Functionality:\n",
        "\n",
        "NumPy ndarrays: Includes powerful mathematical, statistical, and linear algebra functions.\n",
        "\n",
        "Python lists: Basic functionalities for data manipulation without built-in advanced mathematical functions.\n",
        "\n",
        "Indexing and Slicing:\n",
        "\n",
        "NumPy ndarrays: Supports advanced and multi-dimensional slicing and indexing.\n",
        "\n",
        "Python lists: Basic slicing and indexing, limited to 1-D and basic 2-D operations."
      ],
      "metadata": {
        "id": "Ac2v8fJUb1iF"
      }
    },
    {
      "cell_type": "code",
      "source": [
        "#NUMPY NDARRAY\n",
        "import numpy as np\n",
        "\n",
        "# Create a 2D ndarray\n",
        "nd_array = np.array([[1, 2, 3], [4, 5, 6]])\n",
        "\n",
        "# Element-wise operations\n",
        "squared_nd_array = nd_array ** 2\n",
        "sum_nd_array = np.sum(nd_array, axis=0)\n",
        "\n",
        "print(\"NumPy ndarray:\\n\", nd_array)\n",
        "print(\"Squared ndarray:\\n\", squared_nd_array)\n",
        "print(\"Sum along columns:\\n\", sum_nd_array)\n"
      ],
      "metadata": {
        "colab": {
          "base_uri": "https://localhost:8080/"
        },
        "id": "OYe6itcxchr9",
        "outputId": "6c6804f1-8e6b-4b5f-ff72-556769691b8d"
      },
      "execution_count": 10,
      "outputs": [
        {
          "output_type": "stream",
          "name": "stdout",
          "text": [
            "NumPy ndarray:\n",
            " [[1 2 3]\n",
            " [4 5 6]]\n",
            "Squared ndarray:\n",
            " [[ 1  4  9]\n",
            " [16 25 36]]\n",
            "Sum along columns:\n",
            " [5 7 9]\n"
          ]
        }
      ]
    },
    {
      "cell_type": "code",
      "source": [
        "#PYTHON LIST\n",
        "# Create a 2D list\n",
        "py_list = [[1, 2, 3], [4, 5, 6]]\n",
        "\n",
        "# Manually perform element-wise operations\n",
        "squared_py_list = [[x**2 for x in row] for row in py_list]\n",
        "sum_py_list = [sum(col) for col in zip(*py_list)]\n",
        "\n",
        "print(\"Python list:\\n\", py_list)\n",
        "print(\"Squared list:\\n\", squared_py_list)\n",
        "print(\"Sum along columns:\\n\", sum_py_list)\n"
      ],
      "metadata": {
        "colab": {
          "base_uri": "https://localhost:8080/"
        },
        "id": "z9qNhpwxch0p",
        "outputId": "540906c8-afd6-4b74-8925-f2adad730b0e"
      },
      "execution_count": 11,
      "outputs": [
        {
          "output_type": "stream",
          "name": "stdout",
          "text": [
            "Python list:\n",
            " [[1, 2, 3], [4, 5, 6]]\n",
            "Squared list:\n",
            " [[1, 4, 9], [16, 25, 36]]\n",
            "Sum along columns:\n",
            " [5, 7, 9]\n"
          ]
        }
      ]
    },
    {
      "cell_type": "markdown",
      "source": [
        "6.. Analyze the performance benefits of NumPy arrays over Python lists for large-scale numerical operations\n",
        "\n",
        "-->Performance Benefits of NumPy Arrays over Python Lists\n",
        "When dealing with large-scale numerical operations, NumPy arrays offer significant performance advantages over standard Python lists. Let's break down the key benefits:\n",
        "\n",
        "Memory Efficiency:\n",
        "\n",
        "NumPy Arrays: Use contiguous blocks of memory, which reduces the overhead and leads to more efficient memory usage.\n",
        "\n",
        "Python Lists: Each element in a Python list is an object with additional memory overhead.\n"
      ],
      "metadata": {
        "id": "8YpR4ttWc3ww"
      }
    },
    {
      "cell_type": "code",
      "source": [
        "import numpy as np\n",
        "import sys\n",
        "\n",
        "# Create a large NumPy array\n",
        "numpy_array = np.arange(1000000)\n",
        "numpy_memory = numpy_array.nbytes\n",
        "\n",
        "# Create a large Python list\n",
        "python_list = list(range(1000000))\n",
        "python_memory = sys.getsizeof(python_list) + sum(sys.getsizeof(item) for item in python_list)\n",
        "\n",
        "print(f\"NumPy array memory: {numpy_memory} bytes\")\n",
        "print(f\"Python list memory: {python_memory} bytes\")\n"
      ],
      "metadata": {
        "colab": {
          "base_uri": "https://localhost:8080/"
        },
        "id": "er9o1i_LdbHs",
        "outputId": "1ac3b464-b270-4586-9527-38ab281347a8"
      },
      "execution_count": 12,
      "outputs": [
        {
          "output_type": "stream",
          "name": "stdout",
          "text": [
            "NumPy array memory: 8000000 bytes\n",
            "Python list memory: 36000056 bytes\n"
          ]
        }
      ]
    },
    {
      "cell_type": "markdown",
      "source": [
        "Performance and Speed:\n",
        "\n",
        "NumPy Arrays: Operations are implemented in C and optimized for performance. Supports vectorized operations, allowing element-wise operations without explicit loops.\n",
        "\n",
        "Python Lists: Operations are less optimized and often require explicit loops, leading to slower performance."
      ],
      "metadata": {
        "id": "YWK3GasfdfH2"
      }
    },
    {
      "cell_type": "code",
      "source": [
        "import numpy as np\n",
        "import time\n",
        "\n",
        "# Create large arrays/lists\n",
        "numpy_array = np.arange(1000000)\n",
        "python_list = list(range(1000000))\n",
        "\n",
        "# Measure time for NumPy array operations\n",
        "start_time = time.time()\n",
        "numpy_result = numpy_array * 2\n",
        "numpy_time = time.time() - start_time\n",
        "\n",
        "# Measure time for Python list operations\n",
        "start_time = time.time()\n",
        "python_result = [x * 2 for x in python_list]\n",
        "python_time = time.time() - start_time\n",
        "\n",
        "print(f\"NumPy operation time: {numpy_time} seconds\")\n",
        "print(f\"Python list operation time: {python_time} seconds\")\n"
      ],
      "metadata": {
        "colab": {
          "base_uri": "https://localhost:8080/"
        },
        "id": "tUhQ5MapdkrN",
        "outputId": "a230ab73-0a1f-4723-e8c1-54920986fc06"
      },
      "execution_count": 14,
      "outputs": [
        {
          "output_type": "stream",
          "name": "stdout",
          "text": [
            "NumPy operation time: 0.011659622192382812 seconds\n",
            "Python list operation time: 0.11707234382629395 seconds\n"
          ]
        }
      ]
    },
    {
      "cell_type": "markdown",
      "source": [
        "Vectorized Operations:\n",
        "\n",
        "NumPy Arrays: Support vectorized operations, which allows for efficient element-wise operations on entire arrays without the need for explicit loops.\n",
        "\n",
        "Python Lists: Requires explicit loops for element-wise operations, which can be less readable and slower."
      ],
      "metadata": {
        "id": "4d8tPrxGdqtu"
      }
    },
    {
      "cell_type": "code",
      "source": [
        "import numpy as np\n",
        "\n",
        "# Create a large NumPy array\n",
        "numpy_array = np.arange(1000000)\n",
        "\n",
        "# Vectorized operation (element-wise multiplication)\n",
        "numpy_result = numpy_array * 2\n"
      ],
      "metadata": {
        "id": "6JxAP6UfdrtZ"
      },
      "execution_count": 15,
      "outputs": []
    },
    {
      "cell_type": "markdown",
      "source": [
        "Advanced Mathematical Functions:\n",
        "\n",
        "NumPy Arrays: Provide a wide range of mathematical and statistical functions that are highly optimized.\n",
        "\n",
        "Python Lists: Lack built-in advanced mathematical functions, often requiring the use of loops or external libraries."
      ],
      "metadata": {
        "id": "B1DuB24OduHR"
      }
    },
    {
      "cell_type": "code",
      "source": [
        "import numpy as np\n",
        "\n",
        "# Create a large NumPy array\n",
        "numpy_array = np.random.rand(1000000)\n",
        "\n",
        "# Calculate statistical measures\n",
        "mean = np.mean(numpy_array)\n",
        "std_dev = np.std(numpy_array)\n",
        "\n",
        "print(f\"Mean: {mean}, Standard Deviation: {std_dev}\")\n"
      ],
      "metadata": {
        "colab": {
          "base_uri": "https://localhost:8080/"
        },
        "id": "urWDmf1hdwv8",
        "outputId": "2717562c-be7e-4c77-de61-fc79f255f887"
      },
      "execution_count": 16,
      "outputs": [
        {
          "output_type": "stream",
          "name": "stdout",
          "text": [
            "Mean: 0.49997691719002174, Standard Deviation: 0.28875672136149166\n"
          ]
        }
      ]
    },
    {
      "cell_type": "markdown",
      "source": [
        "7. Compare vstack() and hstack() functions in NumPy. Provide examples demonstrating their usage and\n",
        "output\n",
        "\n",
        "-->np.vstack() vs np.hstack() in NumPy\n",
        "np.vstack()\n",
        "Purpose: Vertically stacks arrays (row-wise).\n",
        "\n",
        "Usage: np.vstack((array1, array2, ...))"
      ],
      "metadata": {
        "id": "_xP3Wc58d8F7"
      }
    },
    {
      "cell_type": "code",
      "source": [
        "import numpy as np\n",
        "\n",
        "array1 = np.array([[1, 2], [3, 4]])\n",
        "array2 = np.array([[5, 6], [7, 8]])\n",
        "vstacked_array = np.vstack((array1, array2))\n",
        "\n",
        "print(vstacked_array)\n"
      ],
      "metadata": {
        "id": "Dp4sxnrreNlh"
      },
      "execution_count": null,
      "outputs": []
    },
    {
      "cell_type": "markdown",
      "source": [
        "np.hstack()\n",
        "Purpose: Horizontally stacks arrays (column-wise).\n",
        "\n",
        "Usage: np.hstack((array1, array2, ...))\n"
      ],
      "metadata": {
        "id": "eAn-XD4zeQAq"
      }
    },
    {
      "cell_type": "code",
      "source": [
        "import numpy as np\n",
        "\n",
        "array1 = np.array([[1, 2], [3, 4]])\n",
        "array2 = np.array([[5, 6], [7, 8]])\n",
        "hstacked_array = np.hstack((array1, array2))\n",
        "\n",
        "print(hstacked_array)\n"
      ],
      "metadata": {
        "id": "H_9Fmo8leU2l"
      },
      "execution_count": null,
      "outputs": []
    },
    {
      "cell_type": "markdown",
      "source": [
        "np.vstack(): Combines arrays vertically.\n",
        "\n",
        "np.hstack(): Combines arrays horizontally.\n",
        "\n",
        "Both functions are useful for different stacking operations in NumPy"
      ],
      "metadata": {
        "id": "fzIJETkNeZNT"
      }
    },
    {
      "cell_type": "markdown",
      "source": [
        "8. Explain the differences between fliplr() and flipud() methods in NumPy, including their effects on various\n",
        "array dimensions\n",
        "\n",
        "-->np.fliplr() vs np.flipud() in NumPy\n",
        "np.fliplr()\n",
        "Purpose: Flips an array left to right (horizontally).\n",
        "\n",
        "Usage: np.fliplr(array)\n",
        "\n",
        "Effect: Reverses the order of columns in the array."
      ],
      "metadata": {
        "id": "ria1S2p7ebeo"
      }
    },
    {
      "cell_type": "code",
      "source": [
        "import numpy as np\n",
        "\n",
        "# Create a 2D array\n",
        "arr = np.array([[1, 2, 3], [4, 5, 6], [7, 8, 9]])\n",
        "\n",
        "# Apply np.fliplr to flip the array left to right\n",
        "flipped_lr = np.fliplr(arr)\n",
        "\n",
        "print(\"Original array:\\n\", arr)\n",
        "print(\"Array after fliplr:\\n\", flipped_lr)\n"
      ],
      "metadata": {
        "id": "7tdXPqaFem-c"
      },
      "execution_count": null,
      "outputs": []
    },
    {
      "cell_type": "markdown",
      "source": [
        "np.flipud()\n",
        "Purpose: Flips an array upside down (vertically).\n",
        "\n",
        "Usage: np.flipud(array)\n",
        "\n",
        "Effect: Reverses the order of rows in the array.\n",
        "\n",
        "Example:"
      ],
      "metadata": {
        "id": "6oOHkhTTeqMQ"
      }
    },
    {
      "cell_type": "code",
      "source": [
        "import numpy as np\n",
        "\n",
        "# Create a 2D array\n",
        "arr = np.array([[1, 2, 3], [4, 5, 6], [7, 8, 9]])\n",
        "\n",
        "# Apply np.flipud to flip the array upside down\n",
        "flipped_ud = np.flipud(arr)\n",
        "\n",
        "print(\"Original array:\\n\", arr)\n",
        "print(\"Array after flipud:\\n\", flipped_ud)\n"
      ],
      "metadata": {
        "id": "6n3_sc2Ser38"
      },
      "execution_count": null,
      "outputs": []
    },
    {
      "cell_type": "markdown",
      "source": [
        "np.fliplr(): Flips an array horizontally (left to right), reversing the column order.\n",
        "\n",
        "np.flipud(): Flips an array vertically (upside down), reversing the row order.\n",
        "\n",
        "Both functions are useful for manipulating the orientation of arrays in NumPy."
      ],
      "metadata": {
        "id": "vVo4tNuwewvD"
      }
    },
    {
      "cell_type": "markdown",
      "source": [
        "9. Discuss the functionality of the array_split() method in NumPy. How does it handle uneven splits?\n",
        "\n",
        "-->Purpose: Splits an array into multiple sub-arrays.\n",
        "\n",
        "Syntax: np.array_split(array, indices_or_sections, axis=0)\n",
        "\n",
        "array: The input array to be split.\n",
        "\n",
        "indices_or_sections: Number of splits (if integer) or specific indices (if list).\n",
        "\n",
        "axis: The axis along which to split the array. Default is 0 (split along rows).\n",
        "\n",
        "Handling Uneven Splits: Distributes the remaining elements as evenly as possible when the array can't be evenly divided.\n",
        "\n",
        "np.array_split(): Splits arrays into smaller sub-arrays, handling uneven splits by distributing elements as evenly as possible.\n"
      ],
      "metadata": {
        "id": "H4bW43QEe26Y"
      }
    },
    {
      "cell_type": "code",
      "source": [
        "import numpy as np\n",
        "\n",
        "# Create an array\n",
        "arr = np.arange(10)\n",
        "\n",
        "# Split the array into 3 parts\n",
        "splits = np.array_split(arr, 3)\n",
        "\n",
        "print(\"Splits:\")\n",
        "for i, split in enumerate(splits):\n",
        "    print(f\"Split {i}:\", split)\n"
      ],
      "metadata": {
        "id": "vUPGsxYbfMn8"
      },
      "execution_count": null,
      "outputs": []
    },
    {
      "cell_type": "markdown",
      "source": [
        "10.. Explain the concepts of vectorization and broadcasting in NumPy. How do they contribute to efficient array\n",
        "operations?\n",
        "\n",
        "-->Vectorization and Broadcasting in NumPy\n",
        "Vectorization:\n",
        "\n",
        "Purpose: Perform element-wise operations on entire arrays without explicit loops.\n",
        "\n",
        "Benefits:\n",
        "\n",
        "Faster computations due to low-level optimizations.\n",
        "\n",
        "Cleaner, more readable code."
      ],
      "metadata": {
        "id": "wIHuC7_xfOTk"
      }
    },
    {
      "cell_type": "code",
      "source": [
        "import numpy as np\n",
        "\n",
        "arr = np.array([1, 2, 3, 4, 5])\n",
        "vectorized_result = arr * 2\n",
        "print(vectorized_result)  # Output: [ 2  4  6  8 10]\n"
      ],
      "metadata": {
        "id": "uFhgxJVCfZld"
      },
      "execution_count": null,
      "outputs": []
    },
    {
      "cell_type": "markdown",
      "source": [
        "Broadcasting:\n",
        "\n",
        "Purpose: Perform operations on arrays of different shapes.\n",
        "\n",
        "Benefits:\n",
        "\n",
        "Enables arithmetic operations without the need for resizing arrays.\n",
        "\n",
        "Efficient memory usage by avoiding unnecessary data duplication."
      ],
      "metadata": {
        "id": "BkhDrRoKfcuk"
      }
    },
    {
      "cell_type": "code",
      "source": [
        "import numpy as np\n",
        "\n",
        "arr1 = np.array([[1, 2, 3], [4, 5, 6]])\n",
        "arr2 = np.array([1, 2, 3])\n",
        "broadcast_result = arr1 + arr2\n",
        "print(broadcast_result)\n",
        "# Output:\n",
        "# [[ 2  4  6]\n",
        "#  [ 5  7  9]]\n"
      ],
      "metadata": {
        "id": "k8426Ex0feob"
      },
      "execution_count": null,
      "outputs": []
    },
    {
      "cell_type": "markdown",
      "source": [
        "Contribution to Efficient Array Operations:\n",
        "\n",
        "Speed: Both vectorization and broadcasting use optimized, low-level implementations for faster execution.\n",
        "\n",
        "Memory: Efficiently handle large datasets without unnecessary memory usage.\n",
        "\n",
        "Code Simplicity: Simplify code by eliminating explicit loops and complex reshaping.\n",
        "\n",
        "These concepts make NumPy powerful for numerical and scientific computing, enhancing both performance and usability."
      ],
      "metadata": {
        "id": "xKgzasO9fjva"
      }
    },
    {
      "cell_type": "code",
      "source": [
        "#1.Create a 3x3 NumPy array with random integers between 1 and 100. Then, interchange its rows and columns.\n",
        "import numpy as np\n",
        "arr1=np.random.randint(1,101,(3,3))\n",
        "arr1"
      ],
      "metadata": {
        "colab": {
          "base_uri": "https://localhost:8080/"
        },
        "id": "fnJbhQSZH2Cz",
        "outputId": "2a1bff6b-75ec-480c-b825-e17673655bba"
      },
      "execution_count": 17,
      "outputs": [
        {
          "output_type": "execute_result",
          "data": {
            "text/plain": [
              "array([[ 13,  11,  70],\n",
              "       [ 75,  73,  98],\n",
              "       [100,  92,  58]])"
            ]
          },
          "metadata": {},
          "execution_count": 17
        }
      ]
    },
    {
      "cell_type": "code",
      "source": [
        "np.roll(arr1,-1)#interchanging the row."
      ],
      "metadata": {
        "colab": {
          "base_uri": "https://localhost:8080/"
        },
        "id": "IK8BsEW7H2Pp",
        "outputId": "c03904c6-9b10-45ec-bac8-bf4c46abfb9e"
      },
      "execution_count": null,
      "outputs": [
        {
          "output_type": "execute_result",
          "data": {
            "text/plain": [
              "array([[24, 32, 59],\n",
              "       [63, 73, 10],\n",
              "       [34, 38, 65]])"
            ]
          },
          "metadata": {},
          "execution_count": 7
        }
      ]
    },
    {
      "cell_type": "code",
      "source": [
        "np.roll(arr1,3)#interchanging the column."
      ],
      "metadata": {
        "colab": {
          "base_uri": "https://localhost:8080/"
        },
        "id": "G8UJMbN0H2jT",
        "outputId": "35d67dac-f3fa-49ec-e4a7-e31a1b1c390c"
      },
      "execution_count": null,
      "outputs": [
        {
          "output_type": "execute_result",
          "data": {
            "text/plain": [
              "array([[10, 34, 38],\n",
              "       [65, 24, 32],\n",
              "       [59, 63, 73]])"
            ]
          },
          "metadata": {},
          "execution_count": 10
        }
      ]
    },
    {
      "cell_type": "code",
      "source": [
        "#2.Generate a 1D NumPy array with 10 elements. Reshape it into a 2x5 array, then into a 5x2 array."
      ],
      "metadata": {
        "id": "OdcTl2a5H2ns"
      },
      "execution_count": null,
      "outputs": []
    },
    {
      "cell_type": "code",
      "source": [
        "arr=np.ones(10,dtype=int)"
      ],
      "metadata": {
        "id": "5fwGsdUBH2p_"
      },
      "execution_count": 8,
      "outputs": []
    },
    {
      "cell_type": "code",
      "source": [
        "arr.reshape(2,5)"
      ],
      "metadata": {
        "colab": {
          "base_uri": "https://localhost:8080/"
        },
        "id": "drcnINAzH2sH",
        "outputId": "dca0a853-f7a4-4174-a69e-c9c333f86bd9"
      },
      "execution_count": null,
      "outputs": [
        {
          "output_type": "execute_result",
          "data": {
            "text/plain": [
              "array([[1, 1, 1, 1, 1],\n",
              "       [1, 1, 1, 1, 1]])"
            ]
          },
          "metadata": {},
          "execution_count": 15
        }
      ]
    },
    {
      "cell_type": "code",
      "source": [
        "arr.reshape(5,2)"
      ],
      "metadata": {
        "colab": {
          "base_uri": "https://localhost:8080/"
        },
        "id": "xqB7yhnyH2uN",
        "outputId": "d2a96a25-3351-48f6-8ac8-da7b88524221"
      },
      "execution_count": 9,
      "outputs": [
        {
          "output_type": "execute_result",
          "data": {
            "text/plain": [
              "array([[1, 1],\n",
              "       [1, 1],\n",
              "       [1, 1],\n",
              "       [1, 1],\n",
              "       [1, 1]])"
            ]
          },
          "metadata": {},
          "execution_count": 9
        }
      ]
    },
    {
      "cell_type": "code",
      "source": [
        "#3.Create a 4x4 NumPy array with random float values. Add a border of zeros around it, resulting in a 6x6 array.\n",
        "#In this example, the np.pad function adds a border of zeros around the original array.\n",
        "#You can change the constant_values parameter to fill the border with a different element\n",
        "arr1=np.random.rand(4,4)\n",
        "arr1"
      ],
      "metadata": {
        "colab": {
          "base_uri": "https://localhost:8080/"
        },
        "id": "94rCwed2H2wn",
        "outputId": "c68db2a4-975b-478c-a985-431a8dbaa5c3"
      },
      "execution_count": null,
      "outputs": [
        {
          "output_type": "execute_result",
          "data": {
            "text/plain": [
              "array([[0.94248632, 0.91919128, 0.12317989, 0.43464522],\n",
              "       [0.53301373, 0.33670515, 0.10324747, 0.95264219],\n",
              "       [0.39066566, 0.31233474, 0.01086277, 0.83082586],\n",
              "       [0.72642674, 0.76554327, 0.2589755 , 0.51180867]])"
            ]
          },
          "metadata": {},
          "execution_count": 20
        }
      ]
    },
    {
      "cell_type": "code",
      "source": [
        "padded_arr=np.pad(arr1, pad_width=1,mode='constant',constant_values=0)\n",
        "padded_arr"
      ],
      "metadata": {
        "colab": {
          "base_uri": "https://localhost:8080/"
        },
        "id": "f24Q0AkaH2zH",
        "outputId": "39feb8d7-46ca-4794-8b3a-a9947471d07d"
      },
      "execution_count": null,
      "outputs": [
        {
          "output_type": "execute_result",
          "data": {
            "text/plain": [
              "array([[0.        , 0.        , 0.        , 0.        , 0.        ,\n",
              "        0.        ],\n",
              "       [0.        , 0.94248632, 0.91919128, 0.12317989, 0.43464522,\n",
              "        0.        ],\n",
              "       [0.        , 0.53301373, 0.33670515, 0.10324747, 0.95264219,\n",
              "        0.        ],\n",
              "       [0.        , 0.39066566, 0.31233474, 0.01086277, 0.83082586,\n",
              "        0.        ],\n",
              "       [0.        , 0.72642674, 0.76554327, 0.2589755 , 0.51180867,\n",
              "        0.        ],\n",
              "       [0.        , 0.        , 0.        , 0.        , 0.        ,\n",
              "        0.        ]])"
            ]
          },
          "metadata": {},
          "execution_count": 23
        }
      ]
    },
    {
      "cell_type": "code",
      "source": [
        "#4.Using NumPy, create an array of integers from 10 to 60 with a step of 5.\n",
        "\n",
        "#CONCEPT==>np.arange(10, 65, 5) generates an array starting at 10 and ending before 65,\n",
        "#with a step of 5.\n",
        "#The end value is exclusive, so we use 65 to include 60 in the array.\n",
        "arr=np.arange(10,65,5)\n",
        "arr"
      ],
      "metadata": {
        "colab": {
          "base_uri": "https://localhost:8080/"
        },
        "id": "fMNodDotH21f",
        "outputId": "86d4303d-831a-4f2e-dada-138ca4581af9"
      },
      "execution_count": null,
      "outputs": [
        {
          "output_type": "execute_result",
          "data": {
            "text/plain": [
              "array([10, 15, 20, 25, 30, 35, 40, 45, 50, 55, 60])"
            ]
          },
          "metadata": {},
          "execution_count": 25
        }
      ]
    },
    {
      "cell_type": "code",
      "source": [
        "#5.Create a NumPy array of strings ['python', 'numpy', 'pandas']. Apply different case transformations (uppercase, lowercase, title case, etc.) to each element.\n",
        "l= ['python', 'numpy', 'pandas']\n",
        "np.array(l)"
      ],
      "metadata": {
        "colab": {
          "base_uri": "https://localhost:8080/"
        },
        "id": "cPRLLe_PH23b",
        "outputId": "000cb99c-9755-4d59-d2ab-0a83e172456e"
      },
      "execution_count": null,
      "outputs": [
        {
          "output_type": "execute_result",
          "data": {
            "text/plain": [
              "array(['python', 'numpy', 'pandas'], dtype='<U6')"
            ]
          },
          "metadata": {},
          "execution_count": 5
        }
      ]
    },
    {
      "cell_type": "code",
      "source": [
        "np.char.upper(l)"
      ],
      "metadata": {
        "colab": {
          "base_uri": "https://localhost:8080/"
        },
        "id": "3WAms0ViH25x",
        "outputId": "8f2e3f17-53b4-4009-dc1f-2ac82ab4635a"
      },
      "execution_count": null,
      "outputs": [
        {
          "output_type": "execute_result",
          "data": {
            "text/plain": [
              "array(['PYTHON', 'NUMPY', 'PANDAS'], dtype='<U6')"
            ]
          },
          "metadata": {},
          "execution_count": 27
        }
      ]
    },
    {
      "cell_type": "code",
      "source": [
        "np.char.capitalize(l)"
      ],
      "metadata": {
        "colab": {
          "base_uri": "https://localhost:8080/"
        },
        "id": "4GUcDAMNV215",
        "outputId": "ca329fb1-a195-4b6f-e279-e36e6477898d"
      },
      "execution_count": null,
      "outputs": [
        {
          "output_type": "execute_result",
          "data": {
            "text/plain": [
              "array(['Python', 'Numpy', 'Pandas'], dtype='<U6')"
            ]
          },
          "metadata": {},
          "execution_count": 6
        }
      ]
    },
    {
      "cell_type": "code",
      "source": [
        "np.char.lower(l)"
      ],
      "metadata": {
        "colab": {
          "base_uri": "https://localhost:8080/"
        },
        "id": "kLwlHEvCH28J",
        "outputId": "b4520d47-da88-477b-fcfb-4503fc5a0c41"
      },
      "execution_count": null,
      "outputs": [
        {
          "output_type": "execute_result",
          "data": {
            "text/plain": [
              "array(['python', 'numpy', 'pandas'], dtype='<U6')"
            ]
          },
          "metadata": {},
          "execution_count": 28
        }
      ]
    },
    {
      "cell_type": "code",
      "source": [
        "np.char.title(l)"
      ],
      "metadata": {
        "colab": {
          "base_uri": "https://localhost:8080/"
        },
        "id": "b7KGfppcH3CM",
        "outputId": "80eec969-334f-4c48-fa7a-8c599b04a876"
      },
      "execution_count": null,
      "outputs": [
        {
          "output_type": "execute_result",
          "data": {
            "text/plain": [
              "array(['Python', 'Numpy', 'Pandas'], dtype='<U6')"
            ]
          },
          "metadata": {},
          "execution_count": 31
        }
      ]
    },
    {
      "cell_type": "code",
      "source": [
        "#6.Generate a NumPy array of words. Insert a space between each character of every word in the array.\n",
        "\n",
        "#We use the np.char.join function to insert a space between each character of every word in the array.\n",
        "#The np.char.join function takes two arguments: the separator (in this case, a space ' ') and the array of words.\n",
        "l= ['python', 'numpy', 'pandas']\n",
        "np.array(l)\n",
        "spaced_words=np.char.join(' ',l)\n",
        "spaced_words"
      ],
      "metadata": {
        "colab": {
          "base_uri": "https://localhost:8080/"
        },
        "id": "G_rfvyB_H3J0",
        "outputId": "ea1e0b7f-4723-4dbf-b928-9f292e7c915a"
      },
      "execution_count": null,
      "outputs": [
        {
          "output_type": "execute_result",
          "data": {
            "text/plain": [
              "array(['p y t h o n', 'n u m p y', 'p a n d a s'], dtype='<U11')"
            ]
          },
          "metadata": {},
          "execution_count": 37
        }
      ]
    },
    {
      "cell_type": "code",
      "source": [
        "#7.Create two 2D NumPy arrays and perform element-wise addition, subtraction, multiplication, and division.\n",
        "array1=[[1,2],[3,4]]\n",
        "array2=[[5,6],[7,8]]\n",
        "a=np.array(array1)\n",
        "b=np.array(array2)"
      ],
      "metadata": {
        "colab": {
          "base_uri": "https://localhost:8080/"
        },
        "id": "_W_8sOvqH3L3",
        "outputId": "6df33e51-84e0-4b60-c47b-e211fba7f853"
      },
      "execution_count": null,
      "outputs": [
        {
          "output_type": "execute_result",
          "data": {
            "text/plain": [
              "array([[5, 6],\n",
              "       [7, 8]])"
            ]
          },
          "metadata": {},
          "execution_count": 53
        }
      ]
    },
    {
      "cell_type": "code",
      "source": [
        "a\n"
      ],
      "metadata": {
        "colab": {
          "base_uri": "https://localhost:8080/"
        },
        "id": "5kXn8QiQVrAw",
        "outputId": "54fa6f3a-3432-4345-c6f1-abbcf436ec2f"
      },
      "execution_count": null,
      "outputs": [
        {
          "output_type": "execute_result",
          "data": {
            "text/plain": [
              "array([[1, 2],\n",
              "       [3, 4]])"
            ]
          },
          "metadata": {},
          "execution_count": 54
        }
      ]
    },
    {
      "cell_type": "code",
      "source": [
        "b"
      ],
      "metadata": {
        "colab": {
          "base_uri": "https://localhost:8080/"
        },
        "id": "I4wXeYZeVrKt",
        "outputId": "88e0197c-57b1-4245-bbf3-a454a31cd84c"
      },
      "execution_count": null,
      "outputs": [
        {
          "output_type": "execute_result",
          "data": {
            "text/plain": [
              "array([[5, 6],\n",
              "       [7, 8]])"
            ]
          },
          "metadata": {},
          "execution_count": 55
        }
      ]
    },
    {
      "cell_type": "code",
      "source": [
        "#element-wise addition\n",
        "add=a+b\n",
        "#element-wise subtraction\n",
        "sub=a-b\n",
        "#element-wise multiplication\n",
        "multi=a*b\n",
        "#element-wise division\n",
        "div=a/b\n",
        "print(\"Element-wise addition\",add)\n",
        "print(\"Element-wise addition\",sub)\n",
        "print(\"Element-wise addition\",multi)\n",
        "print(\"Element-wise addition\",div)"
      ],
      "metadata": {
        "colab": {
          "base_uri": "https://localhost:8080/"
        },
        "id": "YGuEpS5sH3OM",
        "outputId": "6d992e5e-bca9-4ac4-dd7e-ee998bb9df73"
      },
      "execution_count": null,
      "outputs": [
        {
          "output_type": "stream",
          "name": "stdout",
          "text": [
            "Element-wise addition [[ 6  8]\n",
            " [10 12]]\n",
            "Element-wise addition [[-4 -4]\n",
            " [-4 -4]]\n",
            "Element-wise addition [[ 5 12]\n",
            " [21 32]]\n",
            "Element-wise addition [[0.2        0.33333333]\n",
            " [0.42857143 0.5       ]]\n"
          ]
        }
      ]
    },
    {
      "cell_type": "code",
      "source": [
        "#8.Use NumPy to create a 5x5 identity matrix, then extract its diagonal elements.\n",
        "import numpy as np\n",
        "identity_matrix=np.eye(5)\n",
        "identity_matrix"
      ],
      "metadata": {
        "colab": {
          "base_uri": "https://localhost:8080/"
        },
        "id": "l1wZSEWlH3RJ",
        "outputId": "a0e0031a-691a-42a1-d85b-48bf83dc6acd"
      },
      "execution_count": null,
      "outputs": [
        {
          "output_type": "execute_result",
          "data": {
            "text/plain": [
              "array([[1., 0., 0., 0., 0.],\n",
              "       [0., 1., 0., 0., 0.],\n",
              "       [0., 0., 1., 0., 0.],\n",
              "       [0., 0., 0., 1., 0.],\n",
              "       [0., 0., 0., 0., 1.]])"
            ]
          },
          "metadata": {},
          "execution_count": 3
        }
      ]
    },
    {
      "cell_type": "code",
      "source": [
        "diagonal_elements=np.diagonal(identity_matrix)\n",
        "diagonal_elements"
      ],
      "metadata": {
        "colab": {
          "base_uri": "https://localhost:8080/"
        },
        "id": "3dgs0exBH3TZ",
        "outputId": "4793ead8-e317-4aca-e651-c1e8b26231d6"
      },
      "execution_count": null,
      "outputs": [
        {
          "output_type": "execute_result",
          "data": {
            "text/plain": [
              "array([1., 1., 1., 1., 1.])"
            ]
          },
          "metadata": {},
          "execution_count": 5
        }
      ]
    },
    {
      "cell_type": "code",
      "source": [
        "#another approach or by using extract function.\n",
        "diagonal_elements=np.extract(np.eye(5,dtype=bool),identity_matrix)\n",
        "diagonal_elements"
      ],
      "metadata": {
        "colab": {
          "base_uri": "https://localhost:8080/"
        },
        "id": "KgFCIVzdH3W5",
        "outputId": "c27b9621-750f-43a9-8858-65050b185479"
      },
      "execution_count": null,
      "outputs": [
        {
          "output_type": "execute_result",
          "data": {
            "text/plain": [
              "array([1., 1., 1., 1., 1.])"
            ]
          },
          "metadata": {},
          "execution_count": 66
        }
      ]
    },
    {
      "cell_type": "code",
      "source": [
        "#9.Generate a NumPy array of 100 random integers between 0 and 1000. Find and display all prime numbers in this array.\n",
        "import numpy as np\n",
        "\n",
        "# Function to check if a number is prime\n",
        "def is_prime(n):\n",
        "    if n <= 1:\n",
        "        return False\n",
        "    for i in range(2, int(n**0.5) + 1):\n",
        "        if n % i == 0:\n",
        "            return False\n",
        "    return True\n",
        "\n",
        "# Generate a NumPy array of 100 random integers between 0 and 1000\n",
        "arr = np.random.randint(0, 1001, 100)\n",
        "\n",
        "# Find and display all prime numbers in the array\n",
        "prime_numbers = [num for num in arr if is_prime(num)]\n",
        "\n",
        "print(\"Array of random integers:\", arr)\n",
        "print(\"Prime numbers in the array:\", prime_numbers)\n"
      ],
      "metadata": {
        "colab": {
          "base_uri": "https://localhost:8080/"
        },
        "id": "mB1hRJZZQxky",
        "outputId": "b6f2a900-05fe-48e8-ba2a-c0e4358be75a"
      },
      "execution_count": null,
      "outputs": [
        {
          "output_type": "execute_result",
          "data": {
            "text/plain": [
              "array([[ 58, 364, 885, 227],\n",
              "       [294, 435, 711, 963],\n",
              "       [424, 323, 114, 651],\n",
              "       [504, 117,  64, 850],\n",
              "       [914,  91, 674, 634],\n",
              "       [955, 256, 785, 866],\n",
              "       [184, 609,  96, 787],\n",
              "       [731, 210, 233, 773],\n",
              "       [504, 431, 994, 428],\n",
              "       [912, 902, 559, 745],\n",
              "       [836, 551, 641, 488],\n",
              "       [770,  85, 129, 482],\n",
              "       [353, 689, 135, 561],\n",
              "       [212, 392, 659, 945],\n",
              "       [945, 526, 971,  63],\n",
              "       [  2, 833, 149, 291],\n",
              "       [133, 974, 448, 493],\n",
              "       [322, 173, 670, 656],\n",
              "       [651, 633, 666, 715],\n",
              "       [111, 122,  34, 508],\n",
              "       [577, 449, 641, 575],\n",
              "       [883, 953, 748, 770],\n",
              "       [335, 858, 165, 179],\n",
              "       [388, 464, 856, 106],\n",
              "       [603, 781, 102, 554]])"
            ]
          },
          "metadata": {},
          "execution_count": 74
        }
      ]
    },
    {
      "cell_type": "code",
      "source": [
        "#10Create a NumPy array representing daily temperatures for a month. Calculate and display the weekly averages\n",
        "temperature=np.random.randint(1,51,(3,10))\n",
        "temperature"
      ],
      "metadata": {
        "colab": {
          "base_uri": "https://localhost:8080/"
        },
        "id": "3rfsfA4QQxri",
        "outputId": "5b80b3f0-a753-41ef-fdf9-430f43c618e4"
      },
      "execution_count": null,
      "outputs": [
        {
          "output_type": "execute_result",
          "data": {
            "text/plain": [
              "array([[20, 36, 17, 25, 28, 30, 44, 37, 11, 41],\n",
              "       [14,  2,  8,  8, 15, 30, 16, 43, 20, 38],\n",
              "       [ 5, 50, 30,  6,  2, 27, 14,  3, 41, 39]])"
            ]
          },
          "metadata": {},
          "execution_count": 78
        }
      ]
    },
    {
      "cell_type": "code",
      "source": [
        "temperature.mean()"
      ],
      "metadata": {
        "colab": {
          "base_uri": "https://localhost:8080/"
        },
        "id": "tdcBKAqkQxt3",
        "outputId": "b40fc2a3-df73-443b-de87-2e934a02f547"
      },
      "execution_count": null,
      "outputs": [
        {
          "output_type": "execute_result",
          "data": {
            "text/plain": [
              "23.333333333333332"
            ]
          },
          "metadata": {},
          "execution_count": 79
        }
      ]
    }
  ]
}